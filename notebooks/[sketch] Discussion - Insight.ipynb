{
 "cells": [
  {
   "cell_type": "markdown",
   "id": "4d289106-5b39-4e81-9e5e-8c923ad2a925",
   "metadata": {},
   "source": [
    "### 1. Baseline에서는 어떻게 Data를 가공할까? by 이현규님"
   ]
  },
  {
   "cell_type": "markdown",
   "id": "72190ab2-da2d-4ffb-b954-e37c5faa658b",
   "metadata": {},
   "source": [
    "> baseline code인 load_data가 어떤 식으로 동작하는지에 관한 글"
   ]
  },
  {
   "cell_type": "code",
   "execution_count": 1,
   "id": "d9842109-f91c-4d8d-ba07-ad0a4bed43b6",
   "metadata": {},
   "outputs": [],
   "source": [
    "import pandas as pd\n",
    "import numpy as np"
   ]
  },
  {
   "cell_type": "code",
   "execution_count": 2,
   "id": "d85c095f-f03d-4f5f-82c5-05041ce8f366",
   "metadata": {},
   "outputs": [],
   "source": [
    "dataset_dir = \"/opt/ml/input/data/train/train.tsv\""
   ]
  },
  {
   "cell_type": "code",
   "execution_count": 3,
   "id": "945beb66-8a20-4821-8d1a-594615431fd6",
   "metadata": {},
   "outputs": [],
   "source": [
    "dataset = pd.read_csv(dataset_dir, delimiter='\\t', header=None)"
   ]
  },
  {
   "cell_type": "code",
   "execution_count": 4,
   "id": "c3347bf8-021f-4d8d-ad9d-7fe7b1bd3c0f",
   "metadata": {},
   "outputs": [
    {
     "data": {
      "text/html": [
       "<div>\n",
       "<style scoped>\n",
       "    .dataframe tbody tr th:only-of-type {\n",
       "        vertical-align: middle;\n",
       "    }\n",
       "\n",
       "    .dataframe tbody tr th {\n",
       "        vertical-align: top;\n",
       "    }\n",
       "\n",
       "    .dataframe thead th {\n",
       "        text-align: right;\n",
       "    }\n",
       "</style>\n",
       "<table border=\"1\" class=\"dataframe\">\n",
       "  <thead>\n",
       "    <tr style=\"text-align: right;\">\n",
       "      <th></th>\n",
       "      <th>0</th>\n",
       "      <th>1</th>\n",
       "      <th>2</th>\n",
       "      <th>3</th>\n",
       "      <th>4</th>\n",
       "      <th>5</th>\n",
       "      <th>6</th>\n",
       "      <th>7</th>\n",
       "      <th>8</th>\n",
       "    </tr>\n",
       "  </thead>\n",
       "  <tbody>\n",
       "    <tr>\n",
       "      <th>0</th>\n",
       "      <td>wikipedia-24896-25-30-33-19-21</td>\n",
       "      <td>영국에서 사용되는 스포츠 유틸리티 자동차의 브랜드로는 랜드로버(Land Rover)...</td>\n",
       "      <td>랜드로버</td>\n",
       "      <td>30</td>\n",
       "      <td>33</td>\n",
       "      <td>자동차</td>\n",
       "      <td>19</td>\n",
       "      <td>21</td>\n",
       "      <td>단체:제작</td>\n",
       "    </tr>\n",
       "    <tr>\n",
       "      <th>1</th>\n",
       "      <td>wikipedia-12728-224-5-7-42-44</td>\n",
       "      <td>선거에서 민주당은 해산 전 의석인 230석에 한참 못 미치는 57석(지역구 27석,...</td>\n",
       "      <td>민주당</td>\n",
       "      <td>5</td>\n",
       "      <td>7</td>\n",
       "      <td>27석</td>\n",
       "      <td>42</td>\n",
       "      <td>44</td>\n",
       "      <td>관계_없음</td>\n",
       "    </tr>\n",
       "    <tr>\n",
       "      <th>2</th>\n",
       "      <td>wikipedia-28460-3-0-7-9-12</td>\n",
       "      <td>유럽 축구 연맹(UEFA) 집행위원회는 2014년 1월 24일에 열린 회의를 통해 ...</td>\n",
       "      <td>유럽 축구 연맹</td>\n",
       "      <td>0</td>\n",
       "      <td>7</td>\n",
       "      <td>UEFA</td>\n",
       "      <td>9</td>\n",
       "      <td>12</td>\n",
       "      <td>단체:별칭</td>\n",
       "    </tr>\n",
       "    <tr>\n",
       "      <th>3</th>\n",
       "      <td>wikipedia-11479-37-24-26-3-5</td>\n",
       "      <td>용병 공격수 챠디의 부진과 시즌 초 활약한 강수일의 침체, 시즌 중반에 영입한 세르...</td>\n",
       "      <td>강수일</td>\n",
       "      <td>24</td>\n",
       "      <td>26</td>\n",
       "      <td>공격수</td>\n",
       "      <td>3</td>\n",
       "      <td>5</td>\n",
       "      <td>인물:직업/직함</td>\n",
       "    </tr>\n",
       "    <tr>\n",
       "      <th>4</th>\n",
       "      <td>wikipedia-15581-6-0-2-32-40</td>\n",
       "      <td>람캄행 왕은 1237년에서 1247년 사이 수코타이의 왕 퍼쿤 씨 인트라팃과 쓰엉 ...</td>\n",
       "      <td>람캄행</td>\n",
       "      <td>0</td>\n",
       "      <td>2</td>\n",
       "      <td>퍼쿤 씨 인트라팃</td>\n",
       "      <td>32</td>\n",
       "      <td>40</td>\n",
       "      <td>인물:부모님</td>\n",
       "    </tr>\n",
       "  </tbody>\n",
       "</table>\n",
       "</div>"
      ],
      "text/plain": [
       "                                0  \\\n",
       "0  wikipedia-24896-25-30-33-19-21   \n",
       "1   wikipedia-12728-224-5-7-42-44   \n",
       "2      wikipedia-28460-3-0-7-9-12   \n",
       "3    wikipedia-11479-37-24-26-3-5   \n",
       "4     wikipedia-15581-6-0-2-32-40   \n",
       "\n",
       "                                                   1         2   3   4  \\\n",
       "0  영국에서 사용되는 스포츠 유틸리티 자동차의 브랜드로는 랜드로버(Land Rover)...      랜드로버  30  33   \n",
       "1  선거에서 민주당은 해산 전 의석인 230석에 한참 못 미치는 57석(지역구 27석,...       민주당   5   7   \n",
       "2  유럽 축구 연맹(UEFA) 집행위원회는 2014년 1월 24일에 열린 회의를 통해 ...  유럽 축구 연맹   0   7   \n",
       "3  용병 공격수 챠디의 부진과 시즌 초 활약한 강수일의 침체, 시즌 중반에 영입한 세르...       강수일  24  26   \n",
       "4  람캄행 왕은 1237년에서 1247년 사이 수코타이의 왕 퍼쿤 씨 인트라팃과 쓰엉 ...       람캄행   0   2   \n",
       "\n",
       "           5   6   7         8  \n",
       "0        자동차  19  21     단체:제작  \n",
       "1        27석  42  44     관계_없음  \n",
       "2       UEFA   9  12     단체:별칭  \n",
       "3        공격수   3   5  인물:직업/직함  \n",
       "4  퍼쿤 씨 인트라팃  32  40    인물:부모님  "
      ]
     },
     "execution_count": 4,
     "metadata": {},
     "output_type": "execute_result"
    }
   ],
   "source": [
    "dataset.head()"
   ]
  },
  {
   "cell_type": "code",
   "execution_count": 5,
   "id": "a98f4137-a350-4387-a38c-75a381100cb2",
   "metadata": {},
   "outputs": [],
   "source": [
    "from Pstage_03_KLUE_Relation_extraction.load_data import *"
   ]
  },
  {
   "cell_type": "code",
   "execution_count": 6,
   "id": "33d6d238-c6bf-41a3-9a99-5688ac501f10",
   "metadata": {},
   "outputs": [],
   "source": [
    "train_dataset = load_data(dataset_dir)"
   ]
  },
  {
   "cell_type": "code",
   "execution_count": 7,
   "id": "b5188bae-dc99-4a70-b336-52d8f71cd036",
   "metadata": {},
   "outputs": [
    {
     "data": {
      "text/html": [
       "<div>\n",
       "<style scoped>\n",
       "    .dataframe tbody tr th:only-of-type {\n",
       "        vertical-align: middle;\n",
       "    }\n",
       "\n",
       "    .dataframe tbody tr th {\n",
       "        vertical-align: top;\n",
       "    }\n",
       "\n",
       "    .dataframe thead th {\n",
       "        text-align: right;\n",
       "    }\n",
       "</style>\n",
       "<table border=\"1\" class=\"dataframe\">\n",
       "  <thead>\n",
       "    <tr style=\"text-align: right;\">\n",
       "      <th></th>\n",
       "      <th>sentence</th>\n",
       "      <th>entity_01</th>\n",
       "      <th>entity_02</th>\n",
       "      <th>label</th>\n",
       "    </tr>\n",
       "  </thead>\n",
       "  <tbody>\n",
       "    <tr>\n",
       "      <th>0</th>\n",
       "      <td>영국에서 사용되는 스포츠 유틸리티 자동차의 브랜드로는 랜드로버(Land Rover)...</td>\n",
       "      <td>랜드로버</td>\n",
       "      <td>자동차</td>\n",
       "      <td>17</td>\n",
       "    </tr>\n",
       "    <tr>\n",
       "      <th>1</th>\n",
       "      <td>선거에서 민주당은 해산 전 의석인 230석에 한참 못 미치는 57석(지역구 27석,...</td>\n",
       "      <td>민주당</td>\n",
       "      <td>27석</td>\n",
       "      <td>0</td>\n",
       "    </tr>\n",
       "    <tr>\n",
       "      <th>2</th>\n",
       "      <td>유럽 축구 연맹(UEFA) 집행위원회는 2014년 1월 24일에 열린 회의를 통해 ...</td>\n",
       "      <td>유럽 축구 연맹</td>\n",
       "      <td>UEFA</td>\n",
       "      <td>6</td>\n",
       "    </tr>\n",
       "    <tr>\n",
       "      <th>3</th>\n",
       "      <td>용병 공격수 챠디의 부진과 시즌 초 활약한 강수일의 침체, 시즌 중반에 영입한 세르...</td>\n",
       "      <td>강수일</td>\n",
       "      <td>공격수</td>\n",
       "      <td>2</td>\n",
       "    </tr>\n",
       "    <tr>\n",
       "      <th>4</th>\n",
       "      <td>람캄행 왕은 1237년에서 1247년 사이 수코타이의 왕 퍼쿤 씨 인트라팃과 쓰엉 ...</td>\n",
       "      <td>람캄행</td>\n",
       "      <td>퍼쿤 씨 인트라팃</td>\n",
       "      <td>8</td>\n",
       "    </tr>\n",
       "    <tr>\n",
       "      <th>...</th>\n",
       "      <td>...</td>\n",
       "      <td>...</td>\n",
       "      <td>...</td>\n",
       "      <td>...</td>\n",
       "    </tr>\n",
       "    <tr>\n",
       "      <th>8995</th>\n",
       "      <td>2002년 FIFA 월드컵 사우디아라비아와의 1차전에서 독일은 8-0으로 승리하였는...</td>\n",
       "      <td>사우디아라비아</td>\n",
       "      <td>2002년</td>\n",
       "      <td>0</td>\n",
       "    </tr>\n",
       "    <tr>\n",
       "      <th>8996</th>\n",
       "      <td>일본의 2대 메이커인 토요타와 닛산은 시장 점유율을 높이기 위한 신차 개발을 계속하...</td>\n",
       "      <td>토요타</td>\n",
       "      <td>일본</td>\n",
       "      <td>9</td>\n",
       "    </tr>\n",
       "    <tr>\n",
       "      <th>8997</th>\n",
       "      <td>방호의의 손자 방덕룡(方德龍)은 1588년(선조 21년) 무과에 급제하고 낙안군수로...</td>\n",
       "      <td>방덕룡</td>\n",
       "      <td>선무원종공신(宣武原從功臣)</td>\n",
       "      <td>2</td>\n",
       "    </tr>\n",
       "    <tr>\n",
       "      <th>8998</th>\n",
       "      <td>LG전자는 올해 초 국내시장에 출시한 2020년형 ‘LG 그램’ 시리즈를 이달부터 ...</td>\n",
       "      <td>LG전자</td>\n",
       "      <td>북미</td>\n",
       "      <td>0</td>\n",
       "    </tr>\n",
       "    <tr>\n",
       "      <th>8999</th>\n",
       "      <td>전남도의회 안전건설소방위원회 차영수 의원(강진1)은 지난 14일 설 명절을 앞두고 ...</td>\n",
       "      <td>차영수</td>\n",
       "      <td>의원</td>\n",
       "      <td>2</td>\n",
       "    </tr>\n",
       "  </tbody>\n",
       "</table>\n",
       "<p>9000 rows × 4 columns</p>\n",
       "</div>"
      ],
      "text/plain": [
       "                                               sentence entity_01  \\\n",
       "0     영국에서 사용되는 스포츠 유틸리티 자동차의 브랜드로는 랜드로버(Land Rover)...      랜드로버   \n",
       "1     선거에서 민주당은 해산 전 의석인 230석에 한참 못 미치는 57석(지역구 27석,...       민주당   \n",
       "2     유럽 축구 연맹(UEFA) 집행위원회는 2014년 1월 24일에 열린 회의를 통해 ...  유럽 축구 연맹   \n",
       "3     용병 공격수 챠디의 부진과 시즌 초 활약한 강수일의 침체, 시즌 중반에 영입한 세르...       강수일   \n",
       "4     람캄행 왕은 1237년에서 1247년 사이 수코타이의 왕 퍼쿤 씨 인트라팃과 쓰엉 ...       람캄행   \n",
       "...                                                 ...       ...   \n",
       "8995  2002년 FIFA 월드컵 사우디아라비아와의 1차전에서 독일은 8-0으로 승리하였는...   사우디아라비아   \n",
       "8996  일본의 2대 메이커인 토요타와 닛산은 시장 점유율을 높이기 위한 신차 개발을 계속하...       토요타   \n",
       "8997  방호의의 손자 방덕룡(方德龍)은 1588년(선조 21년) 무과에 급제하고 낙안군수로...       방덕룡   \n",
       "8998  LG전자는 올해 초 국내시장에 출시한 2020년형 ‘LG 그램’ 시리즈를 이달부터 ...      LG전자   \n",
       "8999  전남도의회 안전건설소방위원회 차영수 의원(강진1)은 지난 14일 설 명절을 앞두고 ...       차영수   \n",
       "\n",
       "           entity_02  label  \n",
       "0                자동차     17  \n",
       "1                27석      0  \n",
       "2               UEFA      6  \n",
       "3                공격수      2  \n",
       "4          퍼쿤 씨 인트라팃      8  \n",
       "...              ...    ...  \n",
       "8995           2002년      0  \n",
       "8996              일본      9  \n",
       "8997  선무원종공신(宣武原從功臣)      2  \n",
       "8998              북미      0  \n",
       "8999              의원      2  \n",
       "\n",
       "[9000 rows x 4 columns]"
      ]
     },
     "execution_count": 7,
     "metadata": {},
     "output_type": "execute_result"
    }
   ],
   "source": [
    "train_dataset"
   ]
  },
  {
   "cell_type": "code",
   "execution_count": 8,
   "id": "d74f609a-becf-40d5-9301-c4b14bbdff9a",
   "metadata": {},
   "outputs": [
    {
     "data": {
      "text/html": [
       "<div>\n",
       "<style scoped>\n",
       "    .dataframe tbody tr th:only-of-type {\n",
       "        vertical-align: middle;\n",
       "    }\n",
       "\n",
       "    .dataframe tbody tr th {\n",
       "        vertical-align: top;\n",
       "    }\n",
       "\n",
       "    .dataframe thead th {\n",
       "        text-align: right;\n",
       "    }\n",
       "</style>\n",
       "<table border=\"1\" class=\"dataframe\">\n",
       "  <thead>\n",
       "    <tr style=\"text-align: right;\">\n",
       "      <th></th>\n",
       "      <th>sentence</th>\n",
       "      <th>entity_01</th>\n",
       "      <th>entity_02</th>\n",
       "      <th>label</th>\n",
       "    </tr>\n",
       "  </thead>\n",
       "  <tbody>\n",
       "    <tr>\n",
       "      <th>0</th>\n",
       "      <td>영국에서 사용되는 스포츠 유틸리티 자동차의 브랜드로는 랜드로버(Land Rover)...</td>\n",
       "      <td>랜드로버</td>\n",
       "      <td>자동차</td>\n",
       "      <td>17</td>\n",
       "    </tr>\n",
       "    <tr>\n",
       "      <th>1</th>\n",
       "      <td>선거에서 민주당은 해산 전 의석인 230석에 한참 못 미치는 57석(지역구 27석,...</td>\n",
       "      <td>민주당</td>\n",
       "      <td>27석</td>\n",
       "      <td>0</td>\n",
       "    </tr>\n",
       "    <tr>\n",
       "      <th>2</th>\n",
       "      <td>유럽 축구 연맹(UEFA) 집행위원회는 2014년 1월 24일에 열린 회의를 통해 ...</td>\n",
       "      <td>유럽 축구 연맹</td>\n",
       "      <td>UEFA</td>\n",
       "      <td>6</td>\n",
       "    </tr>\n",
       "    <tr>\n",
       "      <th>3</th>\n",
       "      <td>용병 공격수 챠디의 부진과 시즌 초 활약한 강수일의 침체, 시즌 중반에 영입한 세르...</td>\n",
       "      <td>강수일</td>\n",
       "      <td>공격수</td>\n",
       "      <td>2</td>\n",
       "    </tr>\n",
       "    <tr>\n",
       "      <th>4</th>\n",
       "      <td>람캄행 왕은 1237년에서 1247년 사이 수코타이의 왕 퍼쿤 씨 인트라팃과 쓰엉 ...</td>\n",
       "      <td>람캄행</td>\n",
       "      <td>퍼쿤 씨 인트라팃</td>\n",
       "      <td>8</td>\n",
       "    </tr>\n",
       "  </tbody>\n",
       "</table>\n",
       "</div>"
      ],
      "text/plain": [
       "                                            sentence entity_01  entity_02  \\\n",
       "0  영국에서 사용되는 스포츠 유틸리티 자동차의 브랜드로는 랜드로버(Land Rover)...      랜드로버        자동차   \n",
       "1  선거에서 민주당은 해산 전 의석인 230석에 한참 못 미치는 57석(지역구 27석,...       민주당        27석   \n",
       "2  유럽 축구 연맹(UEFA) 집행위원회는 2014년 1월 24일에 열린 회의를 통해 ...  유럽 축구 연맹       UEFA   \n",
       "3  용병 공격수 챠디의 부진과 시즌 초 활약한 강수일의 침체, 시즌 중반에 영입한 세르...       강수일        공격수   \n",
       "4  람캄행 왕은 1237년에서 1247년 사이 수코타이의 왕 퍼쿤 씨 인트라팃과 쓰엉 ...       람캄행  퍼쿤 씨 인트라팃   \n",
       "\n",
       "   label  \n",
       "0     17  \n",
       "1      0  \n",
       "2      6  \n",
       "3      2  \n",
       "4      8  "
      ]
     },
     "execution_count": 8,
     "metadata": {},
     "output_type": "execute_result"
    }
   ],
   "source": [
    "train_label = train_dataset['label'].values\n",
    "train_dataset.head()"
   ]
  },
  {
   "cell_type": "markdown",
   "id": "48ca2aa7-fc33-4bb7-9db5-0aafefb79a18",
   "metadata": {},
   "source": [
    "### 필요한 라이브러리 호출"
   ]
  },
  {
   "cell_type": "code",
   "execution_count": 9,
   "id": "a12f7870-9215-4aed-91ff-9a145516a131",
   "metadata": {
    "collapsed": true,
    "jupyter": {
     "outputs_hidden": true
    },
    "tags": []
   },
   "outputs": [
    {
     "name": "stdout",
     "output_type": "stream",
     "text": [
      "Requirement already satisfied: transformers in /opt/conda/lib/python3.7/site-packages (4.2.0)\n",
      "Requirement already satisfied: packaging in /opt/conda/lib/python3.7/site-packages (from transformers) (20.9)\n",
      "Requirement already satisfied: sacremoses in /opt/conda/lib/python3.7/site-packages (from transformers) (0.0.44)\n",
      "Requirement already satisfied: importlib-metadata; python_version < \"3.8\" in /opt/conda/lib/python3.7/site-packages (from transformers) (3.10.0)\n",
      "Requirement already satisfied: requests in /opt/conda/lib/python3.7/site-packages (from transformers) (2.23.0)\n",
      "Requirement already satisfied: regex!=2019.12.17 in /opt/conda/lib/python3.7/site-packages (from transformers) (2021.4.4)\n",
      "Requirement already satisfied: tqdm>=4.27 in /opt/conda/lib/python3.7/site-packages (from transformers) (4.46.0)\n",
      "Requirement already satisfied: numpy in /opt/conda/lib/python3.7/site-packages (from transformers) (1.18.5)\n",
      "Requirement already satisfied: tokenizers==0.9.4 in /opt/conda/lib/python3.7/site-packages (from transformers) (0.9.4)\n",
      "Requirement already satisfied: filelock in /opt/conda/lib/python3.7/site-packages (from transformers) (3.0.12)\n",
      "Requirement already satisfied: pyparsing>=2.0.2 in /opt/conda/lib/python3.7/site-packages (from packaging->transformers) (2.4.7)\n",
      "Requirement already satisfied: joblib in /opt/conda/lib/python3.7/site-packages (from sacremoses->transformers) (1.0.1)\n",
      "Requirement already satisfied: six in /opt/conda/lib/python3.7/site-packages (from sacremoses->transformers) (1.14.0)\n",
      "Requirement already satisfied: click in /opt/conda/lib/python3.7/site-packages (from sacremoses->transformers) (7.1.2)\n",
      "Requirement already satisfied: zipp>=0.5 in /opt/conda/lib/python3.7/site-packages (from importlib-metadata; python_version < \"3.8\"->transformers) (3.4.1)\n",
      "Requirement already satisfied: typing-extensions>=3.6.4; python_version < \"3.8\" in /opt/conda/lib/python3.7/site-packages (from importlib-metadata; python_version < \"3.8\"->transformers) (3.7.4.3)\n",
      "Requirement already satisfied: idna<3,>=2.5 in /opt/conda/lib/python3.7/site-packages (from requests->transformers) (2.9)\n",
      "Requirement already satisfied: urllib3!=1.25.0,!=1.25.1,<1.26,>=1.21.1 in /opt/conda/lib/python3.7/site-packages (from requests->transformers) (1.25.8)\n",
      "Requirement already satisfied: certifi>=2017.4.17 in /opt/conda/lib/python3.7/site-packages (from requests->transformers) (2020.6.20)\n",
      "Requirement already satisfied: chardet<4,>=3.0.2 in /opt/conda/lib/python3.7/site-packages (from requests->transformers) (3.0.4)\n",
      "Requirement already satisfied: ipywidgets in /opt/conda/lib/python3.7/site-packages (7.6.3)\n",
      "Requirement already satisfied: jupyterlab-widgets>=1.0.0; python_version >= \"3.6\" in /opt/conda/lib/python3.7/site-packages (from ipywidgets) (1.0.0)\n",
      "Requirement already satisfied: ipython>=4.0.0; python_version >= \"3.3\" in /opt/conda/lib/python3.7/site-packages (from ipywidgets) (7.16.1)\n",
      "Requirement already satisfied: widgetsnbextension~=3.5.0 in /opt/conda/lib/python3.7/site-packages (from ipywidgets) (3.5.1)\n",
      "Requirement already satisfied: ipykernel>=4.5.1 in /opt/conda/lib/python3.7/site-packages (from ipywidgets) (5.5.3)\n",
      "Requirement already satisfied: traitlets>=4.3.1 in /opt/conda/lib/python3.7/site-packages (from ipywidgets) (4.3.3)\n",
      "Requirement already satisfied: nbformat>=4.2.0 in /opt/conda/lib/python3.7/site-packages (from ipywidgets) (5.1.3)\n",
      "Requirement already satisfied: pexpect; sys_platform != \"win32\" in /opt/conda/lib/python3.7/site-packages (from ipython>=4.0.0; python_version >= \"3.3\"->ipywidgets) (4.8.0)\n",
      "Requirement already satisfied: setuptools>=18.5 in /opt/conda/lib/python3.7/site-packages (from ipython>=4.0.0; python_version >= \"3.3\"->ipywidgets) (46.4.0.post20200518)\n",
      "Requirement already satisfied: backcall in /opt/conda/lib/python3.7/site-packages (from ipython>=4.0.0; python_version >= \"3.3\"->ipywidgets) (0.2.0)\n",
      "Requirement already satisfied: prompt-toolkit!=3.0.0,!=3.0.1,<3.1.0,>=2.0.0 in /opt/conda/lib/python3.7/site-packages (from ipython>=4.0.0; python_version >= \"3.3\"->ipywidgets) (3.0.5)\n",
      "Requirement already satisfied: decorator in /opt/conda/lib/python3.7/site-packages (from ipython>=4.0.0; python_version >= \"3.3\"->ipywidgets) (4.4.2)\n",
      "Requirement already satisfied: pygments in /opt/conda/lib/python3.7/site-packages (from ipython>=4.0.0; python_version >= \"3.3\"->ipywidgets) (2.6.1)\n",
      "Requirement already satisfied: pickleshare in /opt/conda/lib/python3.7/site-packages (from ipython>=4.0.0; python_version >= \"3.3\"->ipywidgets) (0.7.5)\n",
      "Requirement already satisfied: jedi>=0.10 in /opt/conda/lib/python3.7/site-packages (from ipython>=4.0.0; python_version >= \"3.3\"->ipywidgets) (0.17.1)\n",
      "Requirement already satisfied: notebook>=4.4.1 in /opt/conda/lib/python3.7/site-packages (from widgetsnbextension~=3.5.0->ipywidgets) (6.3.0)\n",
      "Requirement already satisfied: jupyter-client in /opt/conda/lib/python3.7/site-packages (from ipykernel>=4.5.1->ipywidgets) (6.1.12)\n",
      "Requirement already satisfied: tornado>=4.2 in /opt/conda/lib/python3.7/site-packages (from ipykernel>=4.5.1->ipywidgets) (6.1)\n",
      "Requirement already satisfied: ipython-genutils in /opt/conda/lib/python3.7/site-packages (from traitlets>=4.3.1->ipywidgets) (0.2.0)\n",
      "Requirement already satisfied: six in /opt/conda/lib/python3.7/site-packages (from traitlets>=4.3.1->ipywidgets) (1.14.0)\n",
      "Requirement already satisfied: jupyter-core in /opt/conda/lib/python3.7/site-packages (from nbformat>=4.2.0->ipywidgets) (4.7.1)\n",
      "Requirement already satisfied: jsonschema!=2.5.0,>=2.4 in /opt/conda/lib/python3.7/site-packages (from nbformat>=4.2.0->ipywidgets) (3.2.0)\n",
      "Requirement already satisfied: ptyprocess>=0.5 in /opt/conda/lib/python3.7/site-packages (from pexpect; sys_platform != \"win32\"->ipython>=4.0.0; python_version >= \"3.3\"->ipywidgets) (0.6.0)\n",
      "Requirement already satisfied: wcwidth in /opt/conda/lib/python3.7/site-packages (from prompt-toolkit!=3.0.0,!=3.0.1,<3.1.0,>=2.0.0->ipython>=4.0.0; python_version >= \"3.3\"->ipywidgets) (0.2.5)\n",
      "Requirement already satisfied: parso<0.8.0,>=0.7.0 in /opt/conda/lib/python3.7/site-packages (from jedi>=0.10->ipython>=4.0.0; python_version >= \"3.3\"->ipywidgets) (0.7.0)\n",
      "Requirement already satisfied: Send2Trash>=1.5.0 in /opt/conda/lib/python3.7/site-packages (from notebook>=4.4.1->widgetsnbextension~=3.5.0->ipywidgets) (1.5.0)\n",
      "Requirement already satisfied: nbconvert in /opt/conda/lib/python3.7/site-packages (from notebook>=4.4.1->widgetsnbextension~=3.5.0->ipywidgets) (6.0.7)\n",
      "Requirement already satisfied: prometheus-client in /opt/conda/lib/python3.7/site-packages (from notebook>=4.4.1->widgetsnbextension~=3.5.0->ipywidgets) (0.10.1)\n",
      "Requirement already satisfied: argon2-cffi in /opt/conda/lib/python3.7/site-packages (from notebook>=4.4.1->widgetsnbextension~=3.5.0->ipywidgets) (20.1.0)\n",
      "Requirement already satisfied: jinja2 in /opt/conda/lib/python3.7/site-packages (from notebook>=4.4.1->widgetsnbextension~=3.5.0->ipywidgets) (2.11.2)\n",
      "Requirement already satisfied: terminado>=0.8.3 in /opt/conda/lib/python3.7/site-packages (from notebook>=4.4.1->widgetsnbextension~=3.5.0->ipywidgets) (0.9.4)\n",
      "Requirement already satisfied: pyzmq>=17 in /opt/conda/lib/python3.7/site-packages (from notebook>=4.4.1->widgetsnbextension~=3.5.0->ipywidgets) (22.0.3)\n",
      "Requirement already satisfied: python-dateutil>=2.1 in /opt/conda/lib/python3.7/site-packages (from jupyter-client->ipykernel>=4.5.1->ipywidgets) (2.8.1)\n",
      "Requirement already satisfied: importlib-metadata; python_version < \"3.8\" in /opt/conda/lib/python3.7/site-packages (from jsonschema!=2.5.0,>=2.4->nbformat>=4.2.0->ipywidgets) (3.10.0)\n",
      "Requirement already satisfied: pyrsistent>=0.14.0 in /opt/conda/lib/python3.7/site-packages (from jsonschema!=2.5.0,>=2.4->nbformat>=4.2.0->ipywidgets) (0.17.3)\n",
      "Requirement already satisfied: attrs>=17.4.0 in /opt/conda/lib/python3.7/site-packages (from jsonschema!=2.5.0,>=2.4->nbformat>=4.2.0->ipywidgets) (20.3.0)\n",
      "Requirement already satisfied: bleach in /opt/conda/lib/python3.7/site-packages (from nbconvert->notebook>=4.4.1->widgetsnbextension~=3.5.0->ipywidgets) (3.3.0)\n",
      "Requirement already satisfied: defusedxml in /opt/conda/lib/python3.7/site-packages (from nbconvert->notebook>=4.4.1->widgetsnbextension~=3.5.0->ipywidgets) (0.7.1)\n",
      "Requirement already satisfied: entrypoints>=0.2.2 in /opt/conda/lib/python3.7/site-packages (from nbconvert->notebook>=4.4.1->widgetsnbextension~=3.5.0->ipywidgets) (0.3)\n",
      "Requirement already satisfied: nbclient<0.6.0,>=0.5.0 in /opt/conda/lib/python3.7/site-packages (from nbconvert->notebook>=4.4.1->widgetsnbextension~=3.5.0->ipywidgets) (0.5.3)\n",
      "Requirement already satisfied: pandocfilters>=1.4.1 in /opt/conda/lib/python3.7/site-packages (from nbconvert->notebook>=4.4.1->widgetsnbextension~=3.5.0->ipywidgets) (1.4.3)\n",
      "Requirement already satisfied: mistune<2,>=0.8.1 in /opt/conda/lib/python3.7/site-packages (from nbconvert->notebook>=4.4.1->widgetsnbextension~=3.5.0->ipywidgets) (0.8.4)\n",
      "Requirement already satisfied: jupyterlab-pygments in /opt/conda/lib/python3.7/site-packages (from nbconvert->notebook>=4.4.1->widgetsnbextension~=3.5.0->ipywidgets) (0.1.2)\n",
      "Requirement already satisfied: testpath in /opt/conda/lib/python3.7/site-packages (from nbconvert->notebook>=4.4.1->widgetsnbextension~=3.5.0->ipywidgets) (0.4.4)\n",
      "Requirement already satisfied: cffi>=1.0.0 in /opt/conda/lib/python3.7/site-packages (from argon2-cffi->notebook>=4.4.1->widgetsnbextension~=3.5.0->ipywidgets) (1.14.0)\n",
      "Requirement already satisfied: MarkupSafe>=0.23 in /opt/conda/lib/python3.7/site-packages (from jinja2->notebook>=4.4.1->widgetsnbextension~=3.5.0->ipywidgets) (1.1.1)\n",
      "Requirement already satisfied: zipp>=0.5 in /opt/conda/lib/python3.7/site-packages (from importlib-metadata; python_version < \"3.8\"->jsonschema!=2.5.0,>=2.4->nbformat>=4.2.0->ipywidgets) (3.4.1)\n",
      "Requirement already satisfied: typing-extensions>=3.6.4; python_version < \"3.8\" in /opt/conda/lib/python3.7/site-packages (from importlib-metadata; python_version < \"3.8\"->jsonschema!=2.5.0,>=2.4->nbformat>=4.2.0->ipywidgets) (3.7.4.3)\n",
      "Requirement already satisfied: webencodings in /opt/conda/lib/python3.7/site-packages (from bleach->nbconvert->notebook>=4.4.1->widgetsnbextension~=3.5.0->ipywidgets) (0.5.1)\n",
      "Requirement already satisfied: packaging in /opt/conda/lib/python3.7/site-packages (from bleach->nbconvert->notebook>=4.4.1->widgetsnbextension~=3.5.0->ipywidgets) (20.9)\n",
      "Requirement already satisfied: nest-asyncio in /opt/conda/lib/python3.7/site-packages (from nbclient<0.6.0,>=0.5.0->nbconvert->notebook>=4.4.1->widgetsnbextension~=3.5.0->ipywidgets) (1.5.1)\n",
      "Requirement already satisfied: async-generator in /opt/conda/lib/python3.7/site-packages (from nbclient<0.6.0,>=0.5.0->nbconvert->notebook>=4.4.1->widgetsnbextension~=3.5.0->ipywidgets) (1.10)\n",
      "Requirement already satisfied: pycparser in /opt/conda/lib/python3.7/site-packages (from cffi>=1.0.0->argon2-cffi->notebook>=4.4.1->widgetsnbextension~=3.5.0->ipywidgets) (2.20)\n",
      "Requirement already satisfied: pyparsing>=2.0.2 in /opt/conda/lib/python3.7/site-packages (from packaging->bleach->nbconvert->notebook>=4.4.1->widgetsnbextension~=3.5.0->ipywidgets) (2.4.7)\n"
     ]
    }
   ],
   "source": [
    "!pip install transformers\n",
    "!pip install ipywidgets\n",
    "\n",
    "from transformers import AutoModel, AutoTokenizer, BertTokenizer\n",
    "MODEL_NAME = \"bert-base-multilingual-cased\" "
   ]
  },
  {
   "cell_type": "code",
   "execution_count": 10,
   "id": "653ac2f5-ccb7-4679-8f4d-2923ba8d7c35",
   "metadata": {
    "collapsed": true,
    "jupyter": {
     "outputs_hidden": true
    },
    "tags": []
   },
   "outputs": [
    {
     "data": {
      "application/vnd.jupyter.widget-view+json": {
       "model_id": "540d97f02d3c43398d7524445dd109e6",
       "version_major": 2,
       "version_minor": 0
      },
      "text/plain": [
       "HBox(children=(FloatProgress(value=0.0, description='Downloading', max=625.0, style=ProgressStyle(description_…"
      ]
     },
     "metadata": {},
     "output_type": "display_data"
    },
    {
     "name": "stdout",
     "output_type": "stream",
     "text": [
      "\n"
     ]
    },
    {
     "data": {
      "application/vnd.jupyter.widget-view+json": {
       "model_id": "51b5e6bb8f2b45249babc64e51987e3c",
       "version_major": 2,
       "version_minor": 0
      },
      "text/plain": [
       "HBox(children=(FloatProgress(value=0.0, description='Downloading', max=714314041.0, style=ProgressStyle(descri…"
      ]
     },
     "metadata": {},
     "output_type": "display_data"
    },
    {
     "name": "stdout",
     "output_type": "stream",
     "text": [
      "\n"
     ]
    },
    {
     "data": {
      "application/vnd.jupyter.widget-view+json": {
       "model_id": "df8504324cbd4b4b89f15450e3044e62",
       "version_major": 2,
       "version_minor": 0
      },
      "text/plain": [
       "HBox(children=(FloatProgress(value=0.0, description='Downloading', max=995526.0, style=ProgressStyle(descripti…"
      ]
     },
     "metadata": {},
     "output_type": "display_data"
    },
    {
     "name": "stdout",
     "output_type": "stream",
     "text": [
      "\n"
     ]
    },
    {
     "data": {
      "application/vnd.jupyter.widget-view+json": {
       "model_id": "d5fc59d7b4b54e87a7b7391cbfefea7f",
       "version_major": 2,
       "version_minor": 0
      },
      "text/plain": [
       "HBox(children=(FloatProgress(value=0.0, description='Downloading', max=1961828.0, style=ProgressStyle(descript…"
      ]
     },
     "metadata": {},
     "output_type": "display_data"
    },
    {
     "name": "stdout",
     "output_type": "stream",
     "text": [
      "\n"
     ]
    }
   ],
   "source": [
    "model = AutoModel.from_pretrained(MODEL_NAME)\n",
    "tokenizer = AutoTokenizer.from_pretrained(MODEL_NAME)"
   ]
  },
  {
   "cell_type": "code",
   "execution_count": 11,
   "id": "017a8e21-e891-4a1e-b0ac-d17b2dbffe61",
   "metadata": {},
   "outputs": [
    {
     "data": {
      "text/html": [
       "<div>\n",
       "<style scoped>\n",
       "    .dataframe tbody tr th:only-of-type {\n",
       "        vertical-align: middle;\n",
       "    }\n",
       "\n",
       "    .dataframe tbody tr th {\n",
       "        vertical-align: top;\n",
       "    }\n",
       "\n",
       "    .dataframe thead th {\n",
       "        text-align: right;\n",
       "    }\n",
       "</style>\n",
       "<table border=\"1\" class=\"dataframe\">\n",
       "  <thead>\n",
       "    <tr style=\"text-align: right;\">\n",
       "      <th></th>\n",
       "      <th>sentence</th>\n",
       "      <th>entity_01</th>\n",
       "      <th>entity_02</th>\n",
       "      <th>label</th>\n",
       "    </tr>\n",
       "  </thead>\n",
       "  <tbody>\n",
       "    <tr>\n",
       "      <th>0</th>\n",
       "      <td>영국에서 사용되는 스포츠 유틸리티 자동차의 브랜드로는 랜드로버(Land Rover)...</td>\n",
       "      <td>랜드로버</td>\n",
       "      <td>자동차</td>\n",
       "      <td>17</td>\n",
       "    </tr>\n",
       "  </tbody>\n",
       "</table>\n",
       "</div>"
      ],
      "text/plain": [
       "                                            sentence entity_01 entity_02  \\\n",
       "0  영국에서 사용되는 스포츠 유틸리티 자동차의 브랜드로는 랜드로버(Land Rover)...      랜드로버       자동차   \n",
       "\n",
       "   label  \n",
       "0     17  "
      ]
     },
     "execution_count": 11,
     "metadata": {},
     "output_type": "execute_result"
    }
   ],
   "source": [
    "train_dataset.head(1)"
   ]
  },
  {
   "cell_type": "markdown",
   "id": "30e3d473-2765-40c0-82bb-cf29540fe2cd",
   "metadata": {},
   "source": [
    "### 오늘 배운 huggingface를 연습해보자"
   ]
  },
  {
   "cell_type": "code",
   "execution_count": 12,
   "id": "dd3fa960-dacc-4334-9ab1-7d7f294b4232",
   "metadata": {},
   "outputs": [
    {
     "name": "stdout",
     "output_type": "stream",
     "text": [
      "영국에서 사용되는 스포츠 유틸리티 자동차의 브랜드로는 랜드로버(Land Rover)와 지프(Jeep)가 있으며, 이 브랜드들은 자동차의 종류를 일컫는 말로 사용되기도 한다.\n"
     ]
    }
   ],
   "source": [
    "text = train_dataset.sentence[0] # train_dataset.loc[0, 'sentence']\n",
    "print(text)"
   ]
  },
  {
   "cell_type": "code",
   "execution_count": 14,
   "id": "baa7f42c-7519-452f-aeb6-fb73ef02e29e",
   "metadata": {},
   "outputs": [
    {
     "name": "stdout",
     "output_type": "stream",
     "text": [
      "key: input_ids\n",
      "value: tensor([[   101,  50266,  11489,   9405,  24974,  24683,   9477,  90578,   9625,\n",
      "         119376,  12692,  45725,   9651,  99183,  10459,   9376,  42771,  70186,\n",
      "           9167,  15001,  11261,  41605,    113,  12001,  57836,    114,   9590,\n",
      "           9706,  28396,    113,  13796,  19986,    114,   8843,  22634,    117,\n",
      "           9638,   9376,  42771,  22879,   9651,  99183,  10459,   9684,  46520,\n",
      "          11513,   9641, 119298,  11018,   9251,  11261,   9405,  24974, 118800,\n",
      "          27792,  16139,    119,    102]])\n",
      "key: token_type_ids\n",
      "value: tensor([[0, 0, 0, 0, 0, 0, 0, 0, 0, 0, 0, 0, 0, 0, 0, 0, 0, 0, 0, 0, 0, 0, 0, 0,\n",
      "         0, 0, 0, 0, 0, 0, 0, 0, 0, 0, 0, 0, 0, 0, 0, 0, 0, 0, 0, 0, 0, 0, 0, 0,\n",
      "         0, 0, 0, 0, 0, 0, 0, 0, 0, 0]])\n",
      "key: attention_mask\n",
      "value: tensor([[1, 1, 1, 1, 1, 1, 1, 1, 1, 1, 1, 1, 1, 1, 1, 1, 1, 1, 1, 1, 1, 1, 1, 1,\n",
      "         1, 1, 1, 1, 1, 1, 1, 1, 1, 1, 1, 1, 1, 1, 1, 1, 1, 1, 1, 1, 1, 1, 1, 1,\n",
      "         1, 1, 1, 1, 1, 1, 1, 1, 1, 1]])\n"
     ]
    }
   ],
   "source": [
    "tokenized = tokenizer(text, return_tensors=\"pt\")\n",
    "for key, value in tokenized.items():\n",
    "    print(f\"key: {key}\\nvalue: {value}\")"
   ]
  },
  {
   "cell_type": "code",
   "execution_count": 15,
   "id": "e01ac630-9e95-4fa8-926d-99ef55f421f1",
   "metadata": {},
   "outputs": [
    {
     "name": "stdout",
     "output_type": "stream",
     "text": [
      "['영국', '##에서', '사', '##용', '##되는', '스', '##포츠', '유', '##틸', '##리', '##티', '자', '##동차', '##의', '브', '##랜드', '##로는', '랜', '##드', '##로', '##버', '(', 'Land', 'Rover', ')', '와', '지', '##프', '(', 'Je', '##ep', ')', '가', '있으며', ',', '이', '브', '##랜드', '##들은', '자', '##동차', '##의', '종', '##류', '##를', '일', '##컫', '##는', '말', '##로', '사', '##용', '##되', '##기도', '한다', '.']\n"
     ]
    }
   ],
   "source": [
    "tokenized_text = tokenizer.tokenize(text)\n",
    "print(tokenized_text)"
   ]
  },
  {
   "cell_type": "code",
   "execution_count": 17,
   "id": "46415c1b-e467-4c5d-873c-29849bafc770",
   "metadata": {},
   "outputs": [
    {
     "name": "stdout",
     "output_type": "stream",
     "text": [
      "[101, 50266, 11489, 9405, 24974, 24683, 9477, 90578, 9625, 119376, 12692, 45725, 9651, 99183, 10459, 9376, 42771, 70186, 9167, 15001, 11261, 41605, 113, 12001, 57836, 114, 9590, 9706, 28396, 113, 13796, 19986, 114, 8843, 22634, 117, 9638, 9376, 42771, 22879, 9651, 99183, 10459, 9684, 46520, 11513, 9641, 119298, 11018, 9251, 11261, 9405, 24974, 118800, 27792, 16139, 119, 102]\n"
     ]
    }
   ],
   "source": [
    "input_ids = tokenizer.encode(text)\n",
    "print(input_ids)"
   ]
  },
  {
   "cell_type": "code",
   "execution_count": 18,
   "id": "42c50ac2-2ddb-4053-80fe-6610a29b6230",
   "metadata": {},
   "outputs": [
    {
     "name": "stdout",
     "output_type": "stream",
     "text": [
      "[CLS] 영국에서 사용되는 스포츠 유틸리티 자동차의 브랜드로는 랜드로버 ( Land Rover ) 와 지프 ( Jeep ) 가 있으며, 이 브랜드들은 자동차의 종류를 일컫는 말로 사용되기도 한다. [SEP]\n"
     ]
    }
   ],
   "source": [
    "decoded_ids = tokenizer.decode(input_ids)\n",
    "print(decoded_ids)"
   ]
  },
  {
   "cell_type": "code",
   "execution_count": 25,
   "id": "4b6c83b1-552d-44de-92e9-a3d6cd1aed92",
   "metadata": {},
   "outputs": [],
   "source": [
    "from pprint import PrettyPrinter as ppp\n",
    "from pprint import pprint as pp"
   ]
  },
  {
   "cell_type": "code",
   "execution_count": 26,
   "id": "7156343c-c609-4b5f-adab-9016f4f2db01",
   "metadata": {},
   "outputs": [
    {
     "name": "stdout",
     "output_type": "stream",
     "text": [
      "{'attention_mask': tensor([[1, 1, 1,  ..., 0, 0, 0],\n",
      "        [1, 1, 1,  ..., 0, 0, 0],\n",
      "        [1, 1, 1,  ..., 0, 0, 0],\n",
      "        ...,\n",
      "        [1, 1, 1,  ..., 1, 1, 1],\n",
      "        [1, 1, 1,  ..., 0, 0, 0],\n",
      "        [1, 1, 1,  ..., 0, 0, 0]]),\n",
      " 'input_ids': tensor([[   101,   9167,  15001,  ...,      0,      0,      0],\n",
      "        [   101,   9311,  16323,  ...,      0,      0,      0],\n",
      "        [   101,  68495,  37905,  ...,      0,      0,      0],\n",
      "        ...,\n",
      "        [   101,   9328, 118782,  ...,    123, 101322,    102],\n",
      "        [   101,  49780,  16617,  ...,      0,      0,      0],\n",
      "        [   101,   9730,  30858,  ...,      0,      0,      0]]),\n",
      " 'token_type_ids': tensor([[0, 0, 0,  ..., 0, 0, 0],\n",
      "        [0, 0, 0,  ..., 0, 0, 0],\n",
      "        [0, 0, 0,  ..., 0, 0, 0],\n",
      "        ...,\n",
      "        [0, 0, 0,  ..., 1, 1, 1],\n",
      "        [0, 0, 0,  ..., 0, 0, 0],\n",
      "        [0, 0, 0,  ..., 0, 0, 0]])}\n"
     ]
    }
   ],
   "source": [
    "tokenized_train = tokenized_dataset(train_dataset, tokenizer)\n",
    "pp(tokenized_train)"
   ]
  },
  {
   "cell_type": "code",
   "execution_count": 27,
   "id": "38f01731-14bc-4c7f-85f2-74db97b70125",
   "metadata": {},
   "outputs": [],
   "source": [
    "RE_train_dataset = RE_Dataset(tokenized_train, train_label)"
   ]
  },
  {
   "cell_type": "code",
   "execution_count": 29,
   "id": "8499649b-4e1c-4fe9-a0c0-cb2453dc247a",
   "metadata": {},
   "outputs": [
    {
     "name": "stdout",
     "output_type": "stream",
     "text": [
      "{'attention_mask': tensor([1, 1, 1, 1, 1, 1, 1, 1, 1, 1, 1, 1, 1, 1, 1, 1, 1, 1, 1, 1, 1, 1, 1, 1,\n",
      "        1, 1, 1, 1, 1, 1, 1, 1, 1, 1, 1, 1, 1, 1, 1, 1, 1, 1, 1, 1, 1, 1, 1, 1,\n",
      "        1, 1, 1, 1, 1, 0, 0, 0, 0, 0, 0, 0, 0, 0, 0, 0, 0, 0, 0, 0, 0, 0, 0, 0,\n",
      "        0, 0, 0, 0, 0, 0, 0, 0, 0, 0, 0, 0, 0, 0, 0, 0, 0, 0, 0, 0, 0, 0, 0, 0,\n",
      "        0, 0, 0, 0]),\n",
      " 'input_ids': tensor([   101,   9311,  16323,  21928,    102,  10365,  40958,    102,   9428,\n",
      "         41521,  11489,   9311,  16323,  21928,  10892,   9960,  21386,   9665,\n",
      "          9637,  40958,  12030,  16888,  40958,  10530,   9954, 119251,   9290,\n",
      "          9309,  72087,  11817,  40958,    113,  58939,  17196,  10365,  40958,\n",
      "           117,   9379,  58762,  14423,  37824,  10244,  40958,    114,   9633,\n",
      "          9999, 118813,  12178,   9083,   8924,  90821,    119,    102,      0,\n",
      "             0,      0,      0,      0,      0,      0,      0,      0,      0,\n",
      "             0,      0,      0,      0,      0,      0,      0,      0,      0,\n",
      "             0,      0,      0,      0,      0,      0,      0,      0,      0,\n",
      "             0,      0,      0,      0,      0,      0,      0,      0,      0,\n",
      "             0,      0,      0,      0,      0,      0,      0,      0,      0,\n",
      "             0]),\n",
      " 'labels': tensor(0),\n",
      " 'token_type_ids': tensor([0, 0, 0, 0, 0, 0, 0, 0, 1, 1, 1, 1, 1, 1, 1, 1, 1, 1, 1, 1, 1, 1, 1, 1,\n",
      "        1, 1, 1, 1, 1, 1, 1, 1, 1, 1, 1, 1, 1, 1, 1, 1, 1, 1, 1, 1, 1, 1, 1, 1,\n",
      "        1, 1, 1, 1, 1, 0, 0, 0, 0, 0, 0, 0, 0, 0, 0, 0, 0, 0, 0, 0, 0, 0, 0, 0,\n",
      "        0, 0, 0, 0, 0, 0, 0, 0, 0, 0, 0, 0, 0, 0, 0, 0, 0, 0, 0, 0, 0, 0, 0, 0,\n",
      "        0, 0, 0, 0])}\n"
     ]
    }
   ],
   "source": [
    "RE_train_dataset = iter(RE_train_dataset) # transformer에서 제공하는 Trainer 객체의 input\n",
    "pp(next(RE_train_dataset))"
   ]
  },
  {
   "cell_type": "markdown",
   "id": "e0036da2-4bd7-450b-a48e-0fd264f74bd1",
   "metadata": {},
   "source": [
    "### 2. \"K-Tokenizer가 더 좋을까?\" + 이런 것도 Entity가 되는 구나 by 구건모님"
   ]
  },
  {
   "cell_type": "markdown",
   "id": "d38e9c5b-231b-4fe1-a3f2-23519bc14c61",
   "metadata": {},
   "source": [
    "> 다국어 토크나이저(bert-base-multilingual-cased) vs 한국어 토크나이저(koelctra-small-discriminator)"
   ]
  },
  {
   "cell_type": "code",
   "execution_count": 31,
   "id": "69388c7d-7e6e-4c81-9c7b-c38619ecf05e",
   "metadata": {
    "collapsed": true,
    "jupyter": {
     "outputs_hidden": true
    },
    "tags": []
   },
   "outputs": [
    {
     "name": "stdout",
     "output_type": "stream",
     "text": [
      "Collecting seaborn\n",
      "  Downloading seaborn-0.11.1-py3-none-any.whl (285 kB)\n",
      "\u001b[K     |████████████████████████████████| 285 kB 2.0 MB/s eta 0:00:01\n",
      "\u001b[?25hRequirement already satisfied: scipy>=1.0 in /opt/conda/lib/python3.7/site-packages (from seaborn) (1.6.2)\n",
      "Requirement already satisfied: pandas>=0.23 in /opt/conda/lib/python3.7/site-packages (from seaborn) (1.1.5)\n",
      "Requirement already satisfied: numpy>=1.15 in /opt/conda/lib/python3.7/site-packages (from seaborn) (1.18.5)\n",
      "Collecting matplotlib>=2.2\n",
      "  Downloading matplotlib-3.4.1-cp37-cp37m-manylinux1_x86_64.whl (10.3 MB)\n",
      "\u001b[K     |████████████████████████████████| 10.3 MB 20.8 MB/s eta 0:00:01\n",
      "\u001b[?25hRequirement already satisfied: python-dateutil>=2.7.3 in /opt/conda/lib/python3.7/site-packages (from pandas>=0.23->seaborn) (2.8.1)\n",
      "Requirement already satisfied: pytz>=2017.2 in /opt/conda/lib/python3.7/site-packages (from pandas>=0.23->seaborn) (2020.1)\n",
      "Requirement already satisfied: pyparsing>=2.2.1 in /opt/conda/lib/python3.7/site-packages (from matplotlib>=2.2->seaborn) (2.4.7)\n",
      "Requirement already satisfied: pillow>=6.2.0 in /opt/conda/lib/python3.7/site-packages (from matplotlib>=2.2->seaborn) (7.2.0)\n",
      "Collecting cycler>=0.10\n",
      "  Downloading cycler-0.10.0-py2.py3-none-any.whl (6.5 kB)\n",
      "Collecting kiwisolver>=1.0.1\n",
      "  Downloading kiwisolver-1.3.1-cp37-cp37m-manylinux1_x86_64.whl (1.1 MB)\n",
      "\u001b[K     |████████████████████████████████| 1.1 MB 43.0 MB/s eta 0:00:01\n",
      "\u001b[?25hRequirement already satisfied: six>=1.5 in /opt/conda/lib/python3.7/site-packages (from python-dateutil>=2.7.3->pandas>=0.23->seaborn) (1.14.0)\n",
      "Installing collected packages: cycler, kiwisolver, matplotlib, seaborn\n",
      "Successfully installed cycler-0.10.0 kiwisolver-1.3.1 matplotlib-3.4.1 seaborn-0.11.1\n"
     ]
    }
   ],
   "source": [
    "!pip install seaborn"
   ]
  },
  {
   "cell_type": "code",
   "execution_count": 32,
   "id": "b6fdefc9-fc3b-4750-ba36-4e378452af1c",
   "metadata": {},
   "outputs": [],
   "source": [
    "import pandas as pd\n",
    "import seaborn as sns\n",
    "from transformers import ElectraTokenizer"
   ]
  },
  {
   "cell_type": "code",
   "execution_count": 45,
   "id": "c1bb3348-28bc-4909-b244-9fd3b05970ef",
   "metadata": {
    "tags": []
   },
   "outputs": [],
   "source": [
    "multi_tokenizer = AutoTokenizer.from_pretrained(\"bert-base-multilingual-cased\")\n",
    "k_tokenizer = ElectraTokenizer.from_pretrained(\"monologg/koelectra-small-discriminator\", do_lower_case=False)"
   ]
  },
  {
   "cell_type": "code",
   "execution_count": 36,
   "id": "c5e3fab0-7b44-449d-b8f1-5ba6fa0778e3",
   "metadata": {},
   "outputs": [
    {
     "data": {
      "text/html": [
       "<div>\n",
       "<style scoped>\n",
       "    .dataframe tbody tr th:only-of-type {\n",
       "        vertical-align: middle;\n",
       "    }\n",
       "\n",
       "    .dataframe tbody tr th {\n",
       "        vertical-align: top;\n",
       "    }\n",
       "\n",
       "    .dataframe thead th {\n",
       "        text-align: right;\n",
       "    }\n",
       "</style>\n",
       "<table border=\"1\" class=\"dataframe\">\n",
       "  <thead>\n",
       "    <tr style=\"text-align: right;\">\n",
       "      <th></th>\n",
       "      <th>sentence</th>\n",
       "      <th>entity_01</th>\n",
       "      <th>entity_02</th>\n",
       "      <th>label</th>\n",
       "    </tr>\n",
       "  </thead>\n",
       "  <tbody>\n",
       "    <tr>\n",
       "      <th>0</th>\n",
       "      <td>영국에서 사용되는 스포츠 유틸리티 자동차의 브랜드로는 랜드로버(Land Rover)...</td>\n",
       "      <td>랜드로버</td>\n",
       "      <td>자동차</td>\n",
       "      <td>17</td>\n",
       "    </tr>\n",
       "    <tr>\n",
       "      <th>1</th>\n",
       "      <td>선거에서 민주당은 해산 전 의석인 230석에 한참 못 미치는 57석(지역구 27석,...</td>\n",
       "      <td>민주당</td>\n",
       "      <td>27석</td>\n",
       "      <td>0</td>\n",
       "    </tr>\n",
       "    <tr>\n",
       "      <th>2</th>\n",
       "      <td>유럽 축구 연맹(UEFA) 집행위원회는 2014년 1월 24일에 열린 회의를 통해 ...</td>\n",
       "      <td>유럽 축구 연맹</td>\n",
       "      <td>UEFA</td>\n",
       "      <td>6</td>\n",
       "    </tr>\n",
       "  </tbody>\n",
       "</table>\n",
       "</div>"
      ],
      "text/plain": [
       "                                            sentence entity_01 entity_02  \\\n",
       "0  영국에서 사용되는 스포츠 유틸리티 자동차의 브랜드로는 랜드로버(Land Rover)...      랜드로버       자동차   \n",
       "1  선거에서 민주당은 해산 전 의석인 230석에 한참 못 미치는 57석(지역구 27석,...       민주당       27석   \n",
       "2  유럽 축구 연맹(UEFA) 집행위원회는 2014년 1월 24일에 열린 회의를 통해 ...  유럽 축구 연맹      UEFA   \n",
       "\n",
       "   label  \n",
       "0     17  \n",
       "1      0  \n",
       "2      6  "
      ]
     },
     "execution_count": 36,
     "metadata": {},
     "output_type": "execute_result"
    }
   ],
   "source": [
    "train_dataset.head(3)"
   ]
  },
  {
   "cell_type": "code",
   "execution_count": 46,
   "id": "95b3eac6-203c-4de8-9d05-977b9d6c6590",
   "metadata": {},
   "outputs": [],
   "source": [
    "multi_unknown = set()\n",
    "k_unknown = set()"
   ]
  },
  {
   "cell_type": "code",
   "execution_count": 49,
   "id": "30a1d202-47f3-42af-9c8f-2e4f3649eb85",
   "metadata": {},
   "outputs": [],
   "source": [
    "for i, rows in train_dataset.iterrows():\n",
    "    e1, e2 = rows['entity_01'], rows['entity_02']\n",
    "    \n",
    "    if multi_tokenizer.tokenize(e1)[0] == \"[UNK]\":\n",
    "        multi_unknown.add(e1)\n",
    "    if k_tokenizer.tokenize(e1)[0] == \"[UNK]\":\n",
    "        k_unknown.add(e1)\n",
    "    if multi_tokenizer.tokenize(e2)[0] == \"[UNK]\":\n",
    "        multi_unknown.add(e2)\n",
    "    if k_tokenizer.tokenize(e2)[0] == \"[UNK]\":\n",
    "        k_unknown.add(e2)"
   ]
  },
  {
   "cell_type": "code",
   "execution_count": 50,
   "id": "dddf3c23-d6f5-4bf3-b5bb-a0217ddcc22f",
   "metadata": {},
   "outputs": [
    {
     "name": "stdout",
     "output_type": "stream",
     "text": [
      "{'☎',\n",
      " '㈜',\n",
      " '㈜거명이앤씨',\n",
      " '㈜광주글로벌모터스',\n",
      " '㈜두양전력',\n",
      " '㈜드림씨엔지',\n",
      " '㈜뜨레찬',\n",
      " '㈜로우카본테크',\n",
      " '㈜빵굽는사람들',\n",
      " '㈜오뚜기',\n",
      " '㈜진성퍼니처',\n",
      " '㈜호원',\n",
      " '개똥벌레',\n",
      " '갸넨드라',\n",
      " '경남스틸㈜',\n",
      " '경인아라뱃길',\n",
      " '더늠길',\n",
      " '됭케르크',\n",
      " '드림웍스',\n",
      " '랠프 애셔 앨퍼',\n",
      " '레이쥔',\n",
      " '로퀜스',\n",
      " '맬 영',\n",
      " '맬컴',\n",
      " '맬컴 엑스',\n",
      " '밀짚모자 해적단',\n",
      " '바츨라프 하벨',\n",
      " '브뢴뷔 IF',\n",
      " '뽀뽀뽀',\n",
      " '뽀식이',\n",
      " '뽐뿌커뮤니케이션',\n",
      " '뿌엥',\n",
      " '뿜뿜',\n",
      " '뿡뿡이',\n",
      " '스킵',\n",
      " '쌤소나이트',\n",
      " '쌤소나이트코리아',\n",
      " '썸바디2',\n",
      " '쑨시엔위',\n",
      " '쑨양',\n",
      " '아녜스',\n",
      " '아르툠 미코얀',\n",
      " '에미넴',\n",
      " '에스파뇰',\n",
      " '엥겔스',\n",
      " '왕쥔',\n",
      " '욜란다 데 아라곤',\n",
      " '우젠슝',\n",
      " '웅진씽크빅',\n",
      " '원흠',\n",
      " '위쾨넨',\n",
      " '윰댕',\n",
      " '응우옌반냑',\n",
      " '이궈달라',\n",
      " '일리리쿰',\n",
      " '잣나무',\n",
      " '조치흠',\n",
      " '쥘 베른',\n",
      " '쥘 페리',\n",
      " '코헛',\n",
      " '쿠샨 왕조',\n",
      " '킵 손',\n",
      " '킵차크 칸국',\n",
      " '투게더광산나눔문화재단',\n",
      " '펭수',\n",
      " '핏줄',\n",
      " '한국동서발전㈜',\n",
      " '한땀봉사단',\n",
      " '화뤄겅',\n",
      " '황페이훙',\n",
      " '흄',\n",
      " '힉스 메커니즘'}\n",
      "{'S★스파이시',\n",
      " '☎',\n",
      " '〈창조〉',\n",
      " '《In Utero》',\n",
      " '《라이온 킹》',\n",
      " '《소년 메이드》',\n",
      " '㈜',\n",
      " '㈜거명이앤씨',\n",
      " '㈜광주글로벌모터스',\n",
      " '㈜두양전력',\n",
      " '㈜드림씨엔지',\n",
      " '㈜뜨레찬',\n",
      " '㈜로우카본테크',\n",
      " '㈜빵굽는사람들',\n",
      " '㈜오뚜기',\n",
      " '㈜진성퍼니처',\n",
      " '㈜호원',\n",
      " '中宗',\n",
      " '丸彫',\n",
      " '刘骅骐骥',\n",
      " '前 새누리당 비례대표',\n",
      " '北条氏',\n",
      " '南山',\n",
      " '姜明求',\n",
      " '宋',\n",
      " '帶原君',\n",
      " '張道斌',\n",
      " '慶應',\n",
      " '成遇',\n",
      " '曹',\n",
      " '李址鎔',\n",
      " '李承萬',\n",
      " '李福男',\n",
      " '李秀亨',\n",
      " '李雄',\n",
      " '李集',\n",
      " '森 喜朗',\n",
      " '沙梁部',\n",
      " '空大師',\n",
      " '竇武',\n",
      " '臨海君',\n",
      " '葛文王',\n",
      " '蔚山放送',\n",
      " '袁譚',\n",
      " '金',\n",
      " '黃皓',\n",
      " '경남스틸㈜',\n",
      " '한국동서발전㈜'}\n"
     ]
    }
   ],
   "source": [
    "pp(multi_unknown)\n",
    "pp(k_unknown) # 이모티콘(?), 한자 등이 포함되면 Unknown 처리된 것을 확인할 수 있음"
   ]
  },
  {
   "cell_type": "code",
   "execution_count": 52,
   "id": "89531f34-dbd6-4cd8-b57f-856a66c92e56",
   "metadata": {},
   "outputs": [
    {
     "name": "stdout",
     "output_type": "stream",
     "text": [
      "Only Multi Tokenizer can catch the following!\n",
      "S★스파이시, 黃皓, 成遇, 北条氏, 李秀亨, 前 새누리당 비례대표, 袁譚, 刘骅骐骥, 《In Utero》, 〈창조〉, 曹, 李承萬, 李雄, 竇武, 金, 沙梁部, 丸彫, 李福男, 《라이온 킹》, 宋, 姜明求, 張道斌, 蔚山放送, 臨海君, 葛文王, 李集, 李址鎔, 慶應, 帶原君, 森 喜朗, 《소년 메이드》, 中宗, 南山, 空大師, "
     ]
    }
   ],
   "source": [
    "print(\"Only Multi Tokenizer can catch the following!\")\n",
    "for word in k_unknown:\n",
    "    if word not in multi_unknown:\n",
    "        print(word, end=\", \")"
   ]
  },
  {
   "cell_type": "code",
   "execution_count": 53,
   "id": "1d035ead-8827-4fb5-8fd5-45052adf39ea",
   "metadata": {},
   "outputs": [
    {
     "name": "stdout",
     "output_type": "stream",
     "text": [
      "Only K-Tokenizer can catch the following!\n",
      "쿠샨 왕조, 뽀식이, 한땀봉사단, 쌤소나이트코리아, 핏줄, 조치흠, 욜란다 데 아라곤, 왕쥔, 쥘 베른, 뿡뿡이, 아녜스, 뿜뿜, 아르툠 미코얀, 랠프 애셔 앨퍼, 윰댕, 위쾨넨, 밀짚모자 해적단, 뿌엥, 맬컴, 이궈달라, 투게더광산나눔문화재단, 웅진씽크빅, 에스파뇰, 맬 영, 뽀뽀뽀, 킵차크 칸국, 바츨라프 하벨, 로퀜스, 경인아라뱃길, 황페이훙, 코헛, 됭케르크, 드림웍스, 우젠슝, 원흠, 쌤소나이트, 스킵, 응우옌반냑, 맬컴 엑스, 갸넨드라, 잣나무, 펭수, 킵 손, 쑨양, 더늠길, 썸바디2, 쥘 페리, 쑨시엔위, 엥겔스, 개똥벌레, 흄, 브뢴뷔 IF, 화뤄겅, 레이쥔, 일리리쿰, 뽐뿌커뮤니케이션, 에미넴, 힉스 메커니즘, "
     ]
    }
   ],
   "source": [
    "print(\"Only K-Tokenizer can catch the following!\")\n",
    "for word in multi_unknown:\n",
    "    if word not in k_unknown:\n",
    "        print(word, end=\", \")"
   ]
  },
  {
   "cell_type": "markdown",
   "id": "e9c5809c-ef1d-487d-be37-989ddef80c20",
   "metadata": {},
   "source": [
    "### 3. [EDA] UNK 토큰 분포 확인하기 by 진소정님"
   ]
  },
  {
   "cell_type": "markdown",
   "id": "7c4c6134-9b52-4cae-8ac2-076e82d4d0d3",
   "metadata": {},
   "source": [
    "> 원본 코드에 개인적으로 리팩토링을 하였습니다."
   ]
  },
  {
   "cell_type": "code",
   "execution_count": 54,
   "id": "992cc829-5d9d-4e71-a567-60e6c728aed1",
   "metadata": {},
   "outputs": [],
   "source": [
    "sentences = list(train_dataset['sentence'])"
   ]
  },
  {
   "cell_type": "code",
   "execution_count": 81,
   "id": "1ba79e38-fedc-4dfa-8ec1-f8a1b3dbbf71",
   "metadata": {},
   "outputs": [
    {
     "name": "stdout",
     "output_type": "stream",
     "text": [
      "['영국', '##에서', '사', '##용', '##되는', '스', '##포츠', '유', '##틸', '##리', '##티', '자', '##동차', '##의', '브', '##랜드', '##로는', '랜', '##드', '##로', '##버', '(', 'Land', 'Rover', ')', '와', '지', '##프', '(', 'Je', '##ep', ')', '가', '있으며', ',', '이', '브', '##랜드', '##들은', '자', '##동차', '##의', '종', '##류', '##를', '일', '##컫', '##는', '말', '##로', '사', '##용', '##되', '##기도', '한다', '.']\n"
     ]
    }
   ],
   "source": [
    "tokenized_sentences = []\n",
    "\n",
    "for sentence in sentences:\n",
    "    tokenized_sentences.append(multi_tokenizer.tokenize(sentence))\n",
    "    \n",
    "print(tokenized_sentences[0])"
   ]
  },
  {
   "cell_type": "code",
   "execution_count": 82,
   "id": "875ec9bc-91e6-4314-97dd-2df8a1729465",
   "metadata": {},
   "outputs": [],
   "source": [
    "from collections import defaultdict\n",
    "\n",
    "UNK_counter = defaultdict(int)\n",
    "UNK_col = []\n",
    "\n",
    "for sentence in tokenized_sentences:\n",
    "    cnt = sentence.count('[UNK]')\n",
    "    UNK_counter[cnt] += 1\n",
    "    UNK_col.append(cnt)"
   ]
  },
  {
   "cell_type": "code",
   "execution_count": 83,
   "id": "0062136c-6100-49f2-ae42-ca00dd95e0ad",
   "metadata": {},
   "outputs": [
    {
     "data": {
      "text/plain": [
       "defaultdict(int,\n",
       "            {0: 7346,\n",
       "             1: 457,\n",
       "             4: 394,\n",
       "             2: 610,\n",
       "             8: 23,\n",
       "             5: 34,\n",
       "             7: 10,\n",
       "             3: 62,\n",
       "             6: 47,\n",
       "             9: 8,\n",
       "             12: 5,\n",
       "             10: 2,\n",
       "             18: 1,\n",
       "             27: 1})"
      ]
     },
     "execution_count": 83,
     "metadata": {},
     "output_type": "execute_result"
    }
   ],
   "source": [
    "UNK_counter"
   ]
  },
  {
   "cell_type": "code",
   "execution_count": 84,
   "id": "dcdec24a-f22d-4c86-9e1a-abbdd7a1fcc2",
   "metadata": {},
   "outputs": [],
   "source": [
    "import copy\n",
    "temp = train_dataset.copy()"
   ]
  },
  {
   "cell_type": "code",
   "execution_count": 85,
   "id": "42487b55-ac9a-47dd-a281-27a8e0b9ddd0",
   "metadata": {},
   "outputs": [],
   "source": [
    "temp['UNK'] = UNK_col"
   ]
  },
  {
   "cell_type": "code",
   "execution_count": 86,
   "id": "282a5672-ace6-4a4b-ba33-16b768b48562",
   "metadata": {},
   "outputs": [
    {
     "data": {
      "text/html": [
       "<div>\n",
       "<style scoped>\n",
       "    .dataframe tbody tr th:only-of-type {\n",
       "        vertical-align: middle;\n",
       "    }\n",
       "\n",
       "    .dataframe tbody tr th {\n",
       "        vertical-align: top;\n",
       "    }\n",
       "\n",
       "    .dataframe thead th {\n",
       "        text-align: right;\n",
       "    }\n",
       "</style>\n",
       "<table border=\"1\" class=\"dataframe\">\n",
       "  <thead>\n",
       "    <tr style=\"text-align: right;\">\n",
       "      <th></th>\n",
       "      <th>sentence</th>\n",
       "      <th>entity_01</th>\n",
       "      <th>entity_02</th>\n",
       "      <th>label</th>\n",
       "      <th>UNK</th>\n",
       "    </tr>\n",
       "  </thead>\n",
       "  <tbody>\n",
       "    <tr>\n",
       "      <th>0</th>\n",
       "      <td>영국에서 사용되는 스포츠 유틸리티 자동차의 브랜드로는 랜드로버(Land Rover)...</td>\n",
       "      <td>랜드로버</td>\n",
       "      <td>자동차</td>\n",
       "      <td>17</td>\n",
       "      <td>0</td>\n",
       "    </tr>\n",
       "    <tr>\n",
       "      <th>1</th>\n",
       "      <td>선거에서 민주당은 해산 전 의석인 230석에 한참 못 미치는 57석(지역구 27석,...</td>\n",
       "      <td>민주당</td>\n",
       "      <td>27석</td>\n",
       "      <td>0</td>\n",
       "      <td>0</td>\n",
       "    </tr>\n",
       "    <tr>\n",
       "      <th>2</th>\n",
       "      <td>유럽 축구 연맹(UEFA) 집행위원회는 2014년 1월 24일에 열린 회의를 통해 ...</td>\n",
       "      <td>유럽 축구 연맹</td>\n",
       "      <td>UEFA</td>\n",
       "      <td>6</td>\n",
       "      <td>0</td>\n",
       "    </tr>\n",
       "    <tr>\n",
       "      <th>3</th>\n",
       "      <td>용병 공격수 챠디의 부진과 시즌 초 활약한 강수일의 침체, 시즌 중반에 영입한 세르...</td>\n",
       "      <td>강수일</td>\n",
       "      <td>공격수</td>\n",
       "      <td>2</td>\n",
       "      <td>1</td>\n",
       "    </tr>\n",
       "    <tr>\n",
       "      <th>4</th>\n",
       "      <td>람캄행 왕은 1237년에서 1247년 사이 수코타이의 왕 퍼쿤 씨 인트라팃과 쓰엉 ...</td>\n",
       "      <td>람캄행</td>\n",
       "      <td>퍼쿤 씨 인트라팃</td>\n",
       "      <td>8</td>\n",
       "      <td>1</td>\n",
       "    </tr>\n",
       "  </tbody>\n",
       "</table>\n",
       "</div>"
      ],
      "text/plain": [
       "                                            sentence entity_01  entity_02  \\\n",
       "0  영국에서 사용되는 스포츠 유틸리티 자동차의 브랜드로는 랜드로버(Land Rover)...      랜드로버        자동차   \n",
       "1  선거에서 민주당은 해산 전 의석인 230석에 한참 못 미치는 57석(지역구 27석,...       민주당        27석   \n",
       "2  유럽 축구 연맹(UEFA) 집행위원회는 2014년 1월 24일에 열린 회의를 통해 ...  유럽 축구 연맹       UEFA   \n",
       "3  용병 공격수 챠디의 부진과 시즌 초 활약한 강수일의 침체, 시즌 중반에 영입한 세르...       강수일        공격수   \n",
       "4  람캄행 왕은 1237년에서 1247년 사이 수코타이의 왕 퍼쿤 씨 인트라팃과 쓰엉 ...       람캄행  퍼쿤 씨 인트라팃   \n",
       "\n",
       "   label  UNK  \n",
       "0     17    0  \n",
       "1      0    0  \n",
       "2      6    0  \n",
       "3      2    1  \n",
       "4      8    1  "
      ]
     },
     "execution_count": 86,
     "metadata": {},
     "output_type": "execute_result"
    }
   ],
   "source": [
    "temp.head()"
   ]
  },
  {
   "cell_type": "code",
   "execution_count": 87,
   "id": "f412eea0-c984-41d3-a08c-cdd999115b47",
   "metadata": {},
   "outputs": [
    {
     "data": {
      "text/plain": [
       "<AxesSubplot:xlabel='UNK', ylabel='count'>"
      ]
     },
     "execution_count": 87,
     "metadata": {},
     "output_type": "execute_result"
    },
    {
     "data": {
      "image/png": "[encoded data removed]",
      "text/plain": [
       "<Figure size 432x288 with 1 Axes>"
      ]
     },
     "metadata": {
      "needs_background": "light"
     },
     "output_type": "display_data"
    }
   ],
   "source": [
    "sns.countplot(x='UNK', data=temp)"
   ]
  },
  {
   "cell_type": "markdown",
   "id": "a25e5b70-f3a6-40c7-a536-2cfe520c6534",
   "metadata": {},
   "source": [
    "**대체 UNK 토큰이 27개가 있는 문장은 뭘까????**"
   ]
  },
  {
   "cell_type": "code",
   "execution_count": 92,
   "id": "d402465d-5b14-46ed-b79c-fdc721d8814e",
   "metadata": {},
   "outputs": [
    {
     "data": {
      "text/html": [
       "<div>\n",
       "<style scoped>\n",
       "    .dataframe tbody tr th:only-of-type {\n",
       "        vertical-align: middle;\n",
       "    }\n",
       "\n",
       "    .dataframe tbody tr th {\n",
       "        vertical-align: top;\n",
       "    }\n",
       "\n",
       "    .dataframe thead th {\n",
       "        text-align: right;\n",
       "    }\n",
       "</style>\n",
       "<table border=\"1\" class=\"dataframe\">\n",
       "  <thead>\n",
       "    <tr style=\"text-align: right;\">\n",
       "      <th></th>\n",
       "      <th>sentence</th>\n",
       "      <th>entity_01</th>\n",
       "      <th>entity_02</th>\n",
       "      <th>label</th>\n",
       "      <th>UNK</th>\n",
       "    </tr>\n",
       "  </thead>\n",
       "  <tbody>\n",
       "    <tr>\n",
       "      <th>8600</th>\n",
       "      <td>‘자우자’의 어근 (')는 ‘가운데’를 뜻하기 때문에 ‘알-자우자’는 대충 ‘가운데...</td>\n",
       "      <td>베텔게우스</td>\n",
       "      <td>오리온자리</td>\n",
       "      <td>0</td>\n",
       "      <td>27</td>\n",
       "    </tr>\n",
       "  </tbody>\n",
       "</table>\n",
       "</div>"
      ],
      "text/plain": [
       "                                               sentence entity_01 entity_02  \\\n",
       "8600  ‘자우자’의 어근 (')는 ‘가운데’를 뜻하기 때문에 ‘알-자우자’는 대충 ‘가운데...     베텔게우스     오리온자리   \n",
       "\n",
       "      label  UNK  \n",
       "8600      0   27  "
      ]
     },
     "execution_count": 92,
     "metadata": {},
     "output_type": "execute_result"
    }
   ],
   "source": [
    "temp.loc[temp['UNK']==27]"
   ]
  },
  {
   "cell_type": "code",
   "execution_count": 98,
   "id": "53556c6f-95b1-44eb-94f6-e09ddcfbb0d7",
   "metadata": {},
   "outputs": [],
   "source": [
    "wow = temp.loc[8600, 'sentence']"
   ]
  },
  {
   "cell_type": "markdown",
   "id": "38c64e86-3c67-433b-ada9-8fa9c7c7b46e",
   "metadata": {},
   "source": [
    "**따옴표 때문일까??**"
   ]
  },
  {
   "cell_type": "code",
   "execution_count": 100,
   "id": "4987cdb0-c464-42ce-b7e2-e1d343721001",
   "metadata": {},
   "outputs": [
    {
     "name": "stdout",
     "output_type": "stream",
     "text": [
      "['[UNK]', '자', '##우', '##자', '[UNK]', '의', '어', '##근', '(', \"'\", ')', '는', '[UNK]', '가운데', '[UNK]', '를', '뜻', '##하기', '때문에', '[UNK]', '알', '-', '자', '##우', '##자', '[UNK]', '는', '대', '##충', '[UNK]', '가운데', '것', '[UNK]', '을', '의', '##미', '##한다', '.', '이후', '[UNK]', '알', '자', '##우', '##자', '[UNK]', '는', '오', '##리', '##온', '##자', '##리', '##와', '쌍', '##둥', '##이자', '##리를', '일', '##컫', '##는', '아', '##랍', '##어', '단', '##어로', '굳', '##어졌다', '.', '현재', '아', '##랍', '##어로', '오', '##리', '##온', '##을', '일', '##컫', '##는', '표', '##기는', '[UNK]', '알', '자', '##바', '[UNK]', '이며', ',', '베', '##텔', '##게', '##우스', '##의', '이', '##름', '##에', '포', '##함', '##된', '[UNK]', '알', '자', '##우', '##자', '[UNK]', '도', '사', '##용', '##하고', '있다', '.', '17', '##세기', '영국', '번', '##역', '##가', '에', '##드', '##문', '##드', '칠', '##미', '##드는', '크', '##리스', '##트', '##마', '##누', '##스의', '표', '##기를', '가', '##져', '##와', '[UNK]', '예', '##드', '알', '##게', '##우', '##제', '[UNK]', '(', '\"', 'I', '##ed', 'Al', '##geu', '##ze', '\"', ')', '라고', '이', '##름', '##붙', '##였다', '.', '기', '##록', '##된', '다른', '아', '##랍', '##어', '이름으로', '##는', '[UNK]', '알', '야', '##드', '알', '[UNK]', '[UNK]', '(', \"'\", ')', ',', '[UNK]', '알', '디', '##라', '[UNK]', '(', \"'\", ')', ',', '[UNK]', '알', '만', '##키', '##브', '[UNK]', '(', \"'\", ')', '가', '있는데', ',', '이', '##들', '##에', '[UNK]', '거', '##인의', '[UNK]', '라는', '의', '##미', '##인', '[UNK]', '알', '자', '##우', '##자', '[UNK]', '를', '붙', '##인', '##다', '.']\n"
     ]
    }
   ],
   "source": [
    "print(multi_tokenizer.tokenize(wow))"
   ]
  },
  {
   "cell_type": "markdown",
   "id": "7ec62de5-565d-4bf3-8b3c-00534c235b9d",
   "metadata": {},
   "source": [
    "**그렇다**"
   ]
  },
  {
   "cell_type": "code",
   "execution_count": null,
   "id": "1daff56e-61f0-45e3-9ede-91603f143228",
   "metadata": {},
   "outputs": [],
   "source": []
  }
 ],
 "metadata": {
  "kernelspec": {
   "display_name": "Python 3",
   "language": "python",
   "name": "python3"
  },
  "language_info": {
   "codemirror_mode": {
    "name": "ipython",
    "version": 3
   },
   "file_extension": ".py",
   "mimetype": "text/x-python",
   "name": "python",
   "nbconvert_exporter": "python",
   "pygments_lexer": "ipython3",
   "version": "3.7.7"
  }
 },
 "nbformat": 4,
 "nbformat_minor": 5
}
